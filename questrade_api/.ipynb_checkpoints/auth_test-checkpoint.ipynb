{
 "cells": [
  {
   "cell_type": "code",
   "execution_count": 6,
   "id": "d06572a6-3450-44a9-af1d-bfc8c59fb5a0",
   "metadata": {},
   "outputs": [],
   "source": [
    "import os\n",
    "import json\n",
    "import time\n",
    "from urllib import request\n"
   ]
  },
  {
   "cell_type": "code",
   "execution_count": 9,
   "id": "68278a1a-2ecc-4c40-8866-7dff641b3111",
   "metadata": {},
   "outputs": [
    {
     "name": "stdout",
     "output_type": "stream",
     "text": [
      "/.questrade.json\n"
     ]
    }
   ],
   "source": [
    "#TOKEN_PATH = os.path.expanduser('~/.questrade.json')\n",
    "TOKEN_PATH = 'questrade.json'\n",
    "print(TOKEN_PATH)\n"
   ]
  },
  {
   "cell_type": "code",
   "execution_count": 8,
   "id": "18e49008-b665-4877-9025-ecaf1c9af675",
   "metadata": {},
   "outputs": [],
   "source": [
    "class Auth:\n",
    "    def __init__(self, **kwargs):\n",
    "        if 'config' in kwargs:\n",
    "            self.config = kwargs['config']\n",
    "        else:\n",
    "            raise Exception('No config supplied')\n",
    "        if 'token_path' in kwargs:\n",
    "            self.token_path = kwargs['token_path']\n",
    "        else:\n",
    "            self.token_path = TOKEN_PATH\n",
    "        if 'refresh_token' in kwargs:\n",
    "            self.__refresh_token(kwargs['refresh_token'])\n",
    "\n",
    "    def __read_token(self):\n",
    "        try:\n",
    "            with open(self.token_path) as f:\n",
    "                str = f.read()\n",
    "                return json.loads(str)\n",
    "        except IOError:\n",
    "            raise('No token provided and none found at {}'.format(TOKEN_PATH))\n",
    "\n",
    "    def __write_token(self, token):\n",
    "        with open(self.token_path, 'w') as f:\n",
    "            json.dump(token, f)\n",
    "        os.chmod(self.token_path, 0o600)\n",
    "\n",
    "    def __refresh_token(self, token):\n",
    "        req_time = int(time.time())\n",
    "        r = request.urlopen(self.config['Auth']['RefreshURL'].format(token))\n",
    "        if r.getcode() == 200:\n",
    "            token = json.loads(r.read().decode('utf-8'))\n",
    "            token['expires_at'] = str(req_time + token['expires_in'])\n",
    "            self.__write_token(token)\n",
    "\n",
    "    def __get_valid_token(self):\n",
    "        try:\n",
    "            self.token_data\n",
    "        except AttributeError:\n",
    "            self.token_data = self.__read_token()\n",
    "        finally:\n",
    "            if time.time() + 60 < int(self.token_data['expires_at']):\n",
    "                return self.token_data\n",
    "            else:\n",
    "                self.__refresh_token(self.token_data['refresh_token'])\n",
    "                self.token_data = self.__read_token()\n",
    "                return self.token_data\n",
    "\n",
    "    @property\n",
    "    def token(self):\n",
    "        return self.__get_valid_token()"
   ]
  },
  {
   "cell_type": "code",
   "execution_count": null,
   "id": "5c27ceea-843c-44ac-bfb3-2fd3bfb2376a",
   "metadata": {},
   "outputs": [],
   "source": []
  }
 ],
 "metadata": {
  "kernelspec": {
   "display_name": "Python 3 (ipykernel)",
   "language": "python",
   "name": "python3"
  },
  "language_info": {
   "codemirror_mode": {
    "name": "ipython",
    "version": 3
   },
   "file_extension": ".py",
   "mimetype": "text/x-python",
   "name": "python",
   "nbconvert_exporter": "python",
   "pygments_lexer": "ipython3",
   "version": "3.9.5"
  }
 },
 "nbformat": 4,
 "nbformat_minor": 5
}
