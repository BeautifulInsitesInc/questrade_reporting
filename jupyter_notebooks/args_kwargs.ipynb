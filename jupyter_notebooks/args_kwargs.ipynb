{
 "cells": [
  {
   "cell_type": "code",
   "execution_count": 61,
   "id": "c8fcb41c-c9c0-423a-ad41-5984fa39bd58",
   "metadata": {},
   "outputs": [],
   "source": [
    "def test(*args, **kwargs):\n",
    "    if args:\n",
    "        print(args)\n",
    "    if kwargs:\n",
    "        print('kwargs = ', kwargs)\n",
    "        if 'key3' in kwargs:\n",
    "            key = kwargs['key3']\n",
    "            print('key =',key)\n",
    "    if 'key1' in kwargs:\n",
    "            key = kwargs['key1']\n",
    "            print('key =',key)\n"
   ]
  },
  {
   "cell_type": "code",
   "execution_count": 62,
   "id": "ee4f7694-97b8-43da-a9bc-175a2015994f",
   "metadata": {},
   "outputs": [
    {
     "name": "stdout",
     "output_type": "stream",
     "text": [
      "('test1', 5, 6)\n",
      "kwargs =  {'key3': 'secret'}\n",
      "key = secret\n"
     ]
    }
   ],
   "source": [
    "test('test1',5,6, key3='secret')"
   ]
  },
  {
   "cell_type": "code",
   "execution_count": 63,
   "id": "59308ce8-bbdd-4c97-b556-7bee0594680e",
   "metadata": {},
   "outputs": [
    {
     "name": "stdout",
     "output_type": "stream",
     "text": [
      "kwargs =  {'key1': 'keyword'}\n",
      "key = keyword\n"
     ]
    }
   ],
   "source": [
    "test(key1='keyword')"
   ]
  },
  {
   "cell_type": "code",
   "execution_count": null,
   "id": "b6259fcc-0e7d-46e0-a361-6fdb2f0b5810",
   "metadata": {},
   "outputs": [],
   "source": []
  },
  {
   "cell_type": "code",
   "execution_count": null,
   "id": "27f51d66-4e74-42fe-9ebb-77692dff8751",
   "metadata": {},
   "outputs": [],
   "source": []
  }
 ],
 "metadata": {
  "kernelspec": {
   "display_name": "Python 3 (ipykernel)",
   "language": "python",
   "name": "python3"
  },
  "language_info": {
   "codemirror_mode": {
    "name": "ipython",
    "version": 3
   },
   "file_extension": ".py",
   "mimetype": "text/x-python",
   "name": "python",
   "nbconvert_exporter": "python",
   "pygments_lexer": "ipython3",
   "version": "3.9.5"
  }
 },
 "nbformat": 4,
 "nbformat_minor": 5
}
