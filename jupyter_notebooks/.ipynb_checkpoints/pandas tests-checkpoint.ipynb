{
 "cells": [
  {
   "cell_type": "code",
   "execution_count": 2,
   "id": "a59140dd-dfbc-4550-94b9-11a1e1ec541b",
   "metadata": {},
   "outputs": [],
   "source": [
    "import numpy as np\n",
    "import pandas as pd\n",
    "from numpy.random import randn"
   ]
  },
  {
   "cell_type": "code",
   "execution_count": 4,
   "id": "668ee2be-d3ef-4999-a248-eb22e836afc1",
   "metadata": {},
   "outputs": [
    {
     "data": {
      "text/plain": [
       "array([[-0.21779581, -0.62173811, -0.47398685, -0.03911647],\n",
       "       [ 1.47364791,  0.03453652, -0.42805674,  0.2750969 ],\n",
       "       [ 0.26394923, -1.13316705, -0.89553544, -0.54020676],\n",
       "       [-0.91419137,  0.73568297, -1.34091743,  2.41689786],\n",
       "       [ 0.06000635,  0.34448131,  0.74001764,  1.05291387]])"
      ]
     },
     "execution_count": 4,
     "metadata": {},
     "output_type": "execute_result"
    }
   ],
   "source": [
    "data = randn(5,4)\n"
   ]
  },
  {
   "cell_type": "code",
   "execution_count": null,
   "id": "a3e7a208-5527-478d-b286-be6dbb3396ac",
   "metadata": {},
   "outputs": [],
   "source": [
    "rows = ['A','B','C','D','E']"
   ]
  },
  {
   "cell_type": "code",
   "execution_count": null,
   "id": "a6a9e9b4-0731-42df-8e08-3746356cae4b",
   "metadata": {},
   "outputs": [],
   "source": [
    "columns = ['Jake','Charlie', 'Lexi', 'Mary']"
   ]
  },
  {
   "cell_type": "code",
   "execution_count": 5,
   "id": "73998ce6-eb41-433c-a085-e57706368c50",
   "metadata": {},
   "outputs": [
    {
     "ename": "NameError",
     "evalue": "name 'rows' is not defined",
     "output_type": "error",
     "traceback": [
      "\u001b[1;31m---------------------------------------------------------------------------\u001b[0m",
      "\u001b[1;31mNameError\u001b[0m                                 Traceback (most recent call last)",
      "\u001b[1;32m~\\AppData\\Local\\Temp/ipykernel_21600/4144942710.py\u001b[0m in \u001b[0;36m<module>\u001b[1;34m\u001b[0m\n\u001b[1;32m----> 1\u001b[1;33m \u001b[0mdf\u001b[0m \u001b[1;33m=\u001b[0m \u001b[0mpd\u001b[0m\u001b[1;33m.\u001b[0m\u001b[0mDataFrame\u001b[0m\u001b[1;33m(\u001b[0m\u001b[0mdata\u001b[0m\u001b[1;33m,\u001b[0m \u001b[0mrows\u001b[0m\u001b[1;33m,\u001b[0m \u001b[0mcoumns\u001b[0m\u001b[1;33m)\u001b[0m\u001b[1;33m\u001b[0m\u001b[1;33m\u001b[0m\u001b[0m\n\u001b[0m",
      "\u001b[1;31mNameError\u001b[0m: name 'rows' is not defined"
     ]
    }
   ],
   "source": [
    "df = pd.DataFrame(data, rows, coumns)"
   ]
  },
  {
   "cell_type": "code",
   "execution_count": null,
   "id": "eb53d969-6a8f-4516-a698-9c90122a763d",
   "metadata": {},
   "outputs": [],
   "source": []
  }
 ],
 "metadata": {
  "kernelspec": {
   "display_name": "Python 3 (ipykernel)",
   "language": "python",
   "name": "python3"
  },
  "language_info": {
   "codemirror_mode": {
    "name": "ipython",
    "version": 3
   },
   "file_extension": ".py",
   "mimetype": "text/x-python",
   "name": "python",
   "nbconvert_exporter": "python",
   "pygments_lexer": "ipython3",
   "version": "3.9.5"
  }
 },
 "nbformat": 4,
 "nbformat_minor": 5
}
