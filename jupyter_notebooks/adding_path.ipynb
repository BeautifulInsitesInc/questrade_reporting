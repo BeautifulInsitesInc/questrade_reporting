{
 "cells": [
  {
   "cell_type": "code",
   "execution_count": 3,
   "id": "c5f4adee-4143-46bb-b47d-580d5dc7e46a",
   "metadata": {},
   "outputs": [],
   "source": [
    "import sys\n",
    "sys.path.append('D:\\Dropbox\\code\\@mymoduals')"
   ]
  },
  {
   "cell_type": "code",
   "execution_count": 4,
   "id": "33a76bdf-a338-4d86-acd9-15e1caf65935",
   "metadata": {},
   "outputs": [
    {
     "data": {
      "text/plain": [
       "['D:\\\\dropbox\\\\code\\\\riskmit_questrade',\n",
       " 'C:\\\\Program Files\\\\Python39\\\\python39.zip',\n",
       " 'C:\\\\Program Files\\\\Python39\\\\DLLs',\n",
       " 'C:\\\\Program Files\\\\Python39\\\\lib',\n",
       " 'C:\\\\Program Files\\\\Python39',\n",
       " 'd:\\\\dropbox\\\\code\\\\venvs\\\\venv_dashboard',\n",
       " '',\n",
       " 'd:\\\\dropbox\\\\code\\\\venvs\\\\venv_dashboard\\\\lib\\\\site-packages',\n",
       " 'd:\\\\dropbox\\\\code\\\\venvs\\\\venv_dashboard\\\\lib\\\\site-packages\\\\win32',\n",
       " 'd:\\\\dropbox\\\\code\\\\venvs\\\\venv_dashboard\\\\lib\\\\site-packages\\\\win32\\\\lib',\n",
       " 'd:\\\\dropbox\\\\code\\\\venvs\\\\venv_dashboard\\\\lib\\\\site-packages\\\\Pythonwin',\n",
       " 'd:\\\\dropbox\\\\code\\\\venvs\\\\venv_dashboard\\\\lib\\\\site-packages\\\\IPython\\\\extensions',\n",
       " 'C:\\\\Users\\\\feara_mxkamnl\\\\.ipython',\n",
       " 'D:\\\\Dropbox\\\\code\\\\@mymoduals']"
      ]
     },
     "execution_count": 4,
     "metadata": {},
     "output_type": "execute_result"
    }
   ],
   "source": [
    "sys.path"
   ]
  },
  {
   "cell_type": "code",
   "execution_count": null,
   "id": "ca5320ac-20f7-4aff-ab35-581c05047add",
   "metadata": {},
   "outputs": [],
   "source": []
  }
 ],
 "metadata": {
  "kernelspec": {
   "display_name": "Python 3 (ipykernel)",
   "language": "python",
   "name": "python3"
  },
  "language_info": {
   "codemirror_mode": {
    "name": "ipython",
    "version": 3
   },
   "file_extension": ".py",
   "mimetype": "text/x-python",
   "name": "python",
   "nbconvert_exporter": "python",
   "pygments_lexer": "ipython3",
   "version": "3.9.5"
  }
 },
 "nbformat": 4,
 "nbformat_minor": 5
}
