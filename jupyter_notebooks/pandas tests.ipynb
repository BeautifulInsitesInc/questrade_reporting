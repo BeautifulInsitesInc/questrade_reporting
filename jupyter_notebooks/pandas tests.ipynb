{
 "cells": [
  {
   "cell_type": "code",
   "execution_count": 2,
   "id": "a59140dd-dfbc-4550-94b9-11a1e1ec541b",
   "metadata": {},
   "outputs": [],
   "source": [
    "import numpy as np\n",
    "import pandas as pd\n",
    "from numpy.random import randn"
   ]
  },
  {
   "cell_type": "code",
   "execution_count": 4,
   "id": "668ee2be-d3ef-4999-a248-eb22e836afc1",
   "metadata": {},
   "outputs": [
    {
     "data": {
      "text/plain": [
       "array([[-0.21779581, -0.62173811, -0.47398685, -0.03911647],\n",
       "       [ 1.47364791,  0.03453652, -0.42805674,  0.2750969 ],\n",
       "       [ 0.26394923, -1.13316705, -0.89553544, -0.54020676],\n",
       "       [-0.91419137,  0.73568297, -1.34091743,  2.41689786],\n",
       "       [ 0.06000635,  0.34448131,  0.74001764,  1.05291387]])"
      ]
     },
     "execution_count": 4,
     "metadata": {},
     "output_type": "execute_result"
    }
   ],
   "source": [
    "data = randn(5,4)\n"
   ]
  },
  {
   "cell_type": "code",
   "execution_count": 6,
   "id": "a3e7a208-5527-478d-b286-be6dbb3396ac",
   "metadata": {},
   "outputs": [],
   "source": [
    "rows = ['A','B','C','D','E']"
   ]
  },
  {
   "cell_type": "code",
   "execution_count": 7,
   "id": "a6a9e9b4-0731-42df-8e08-3746356cae4b",
   "metadata": {},
   "outputs": [],
   "source": [
    "columns = ['Jake','Charlie', 'Lexi', 'Mary']"
   ]
  },
  {
   "cell_type": "code",
   "execution_count": 14,
   "id": "73998ce6-eb41-433c-a085-e57706368c50",
   "metadata": {},
   "outputs": [
    {
     "data": {
      "text/html": [
       "<div>\n",
       "<style scoped>\n",
       "    .dataframe tbody tr th:only-of-type {\n",
       "        vertical-align: middle;\n",
       "    }\n",
       "\n",
       "    .dataframe tbody tr th {\n",
       "        vertical-align: top;\n",
       "    }\n",
       "\n",
       "    .dataframe thead th {\n",
       "        text-align: right;\n",
       "    }\n",
       "</style>\n",
       "<table border=\"1\" class=\"dataframe\">\n",
       "  <thead>\n",
       "    <tr style=\"text-align: right;\">\n",
       "      <th></th>\n",
       "      <th>Jake</th>\n",
       "      <th>Charlie</th>\n",
       "      <th>Lexi</th>\n",
       "      <th>Mary</th>\n",
       "    </tr>\n",
       "  </thead>\n",
       "  <tbody>\n",
       "    <tr>\n",
       "      <th>A</th>\n",
       "      <td>-0.217796</td>\n",
       "      <td>-0.621738</td>\n",
       "      <td>-0.473987</td>\n",
       "      <td>-0.039116</td>\n",
       "    </tr>\n",
       "    <tr>\n",
       "      <th>B</th>\n",
       "      <td>1.473648</td>\n",
       "      <td>0.034537</td>\n",
       "      <td>-0.428057</td>\n",
       "      <td>0.275097</td>\n",
       "    </tr>\n",
       "    <tr>\n",
       "      <th>C</th>\n",
       "      <td>0.263949</td>\n",
       "      <td>-1.133167</td>\n",
       "      <td>-0.895535</td>\n",
       "      <td>-0.540207</td>\n",
       "    </tr>\n",
       "    <tr>\n",
       "      <th>D</th>\n",
       "      <td>-0.914191</td>\n",
       "      <td>0.735683</td>\n",
       "      <td>-1.340917</td>\n",
       "      <td>2.416898</td>\n",
       "    </tr>\n",
       "    <tr>\n",
       "      <th>E</th>\n",
       "      <td>0.060006</td>\n",
       "      <td>0.344481</td>\n",
       "      <td>0.740018</td>\n",
       "      <td>1.052914</td>\n",
       "    </tr>\n",
       "  </tbody>\n",
       "</table>\n",
       "</div>"
      ],
      "text/plain": [
       "       Jake   Charlie      Lexi      Mary\n",
       "A -0.217796 -0.621738 -0.473987 -0.039116\n",
       "B  1.473648  0.034537 -0.428057  0.275097\n",
       "C  0.263949 -1.133167 -0.895535 -0.540207\n",
       "D -0.914191  0.735683 -1.340917  2.416898\n",
       "E  0.060006  0.344481  0.740018  1.052914"
      ]
     },
     "execution_count": 14,
     "metadata": {},
     "output_type": "execute_result"
    }
   ],
   "source": [
    "df = pd.DataFrame(data, rows, columns)\n",
    "df\n"
   ]
  },
  {
   "cell_type": "code",
   "execution_count": 22,
   "id": "eb53d969-6a8f-4516-a698-9c90122a763d",
   "metadata": {},
   "outputs": [
    {
     "data": {
      "text/plain": [
       "Jake      -0.217796\n",
       "Charlie   -0.621738\n",
       "Lexi      -0.473987\n",
       "Mary      -0.039116\n",
       "Name: A, dtype: float64"
      ]
     },
     "execution_count": 22,
     "metadata": {},
     "output_type": "execute_result"
    }
   ],
   "source": [
    "datarow = df.iloc[0]\n",
    "datarow"
   ]
  },
  {
   "cell_type": "code",
   "execution_count": null,
   "id": "622266aa-a936-46e8-8a9b-b4de71f3efc9",
   "metadata": {},
   "outputs": [],
   "source": []
  }
 ],
 "metadata": {
  "kernelspec": {
   "display_name": "Python 3 (ipykernel)",
   "language": "python",
   "name": "python3"
  },
  "language_info": {
   "codemirror_mode": {
    "name": "ipython",
    "version": 3
   },
   "file_extension": ".py",
   "mimetype": "text/x-python",
   "name": "python",
   "nbconvert_exporter": "python",
   "pygments_lexer": "ipython3",
   "version": "3.9.5"
  }
 },
 "nbformat": 4,
 "nbformat_minor": 5
}
