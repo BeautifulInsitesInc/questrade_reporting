{
 "cells": [
  {
   "cell_type": "code",
   "execution_count": 173,
   "id": "e77a75a6-a209-453d-98e8-d4dd465ae0e8",
   "metadata": {},
   "outputs": [],
   "source": [
    "from openpyxl.workbook import Workbook\n",
    "from openpyxl import load_workbook\n",
    "from openpyxl.styles import Font, Border, Side\n",
    "from openpyxl.chart import PieChart, Reference, BarChart, LineChart\n",
    "#import win32com.client\n",
    "#getting the active instance of Excell\n",
    "ExcelApp = win32com.client.GetActiveObject(\"Excel.Application\")"
   ]
  },
  {
   "cell_type": "code",
   "execution_count": null,
   "id": "4045ebfc-d541-4aa7-889b-33e9b75b1ee5",
   "metadata": {},
   "outputs": [],
   "source": [
    "# createt a reference to the Excel workbook\n",
    "#ExcelWrBook = ExcelApp.Workbooks('names_and_colors.xlsx')\n",
    "\n",
    "#Get the worksheet\n",
    "#ExcelWrkSht = ExcelWrBook.WorkSheets(1)\n",
    "\n",
    "#Get a range of cells\n",
    "#range1 = ExcelWrkSht.Range(\"B1:B4\")\n",
    "\n",
    "#range1.value = 1000\n"
   ]
  },
  {
   "cell_type": "code",
   "execution_count": null,
   "id": "24f0caeb-486d-428f-b19d-cc76f5341b71",
   "metadata": {},
   "outputs": [],
   "source": [
    "# Load existing spreadsheet\n",
    "wb = load_workbook('positions.xlsx')\n",
    "#Create an active worksheet\n",
    "ws = wb.active"
   ]
  },
  {
   "cell_type": "code",
   "execution_count": null,
   "id": "17c7e705-6dcf-4b9e-83b4-6b3106457863",
   "metadata": {},
   "outputs": [],
   "source": [
    "print(ws[\"b3\"].value)"
   ]
  },
  {
   "cell_type": "code",
   "execution_count": null,
   "id": "ee187028-3363-459a-9551-4b88cb603108",
   "metadata": {},
   "outputs": [],
   "source": [
    "#get entire colum or row\n",
    "column_b = ws['7']\n",
    "print(column_b)\n"
   ]
  },
  {
   "cell_type": "code",
   "execution_count": null,
   "id": "d2860c0e-3a7a-4668-8d97-a80b2e160919",
   "metadata": {},
   "outputs": [],
   "source": [
    "for cell in column_b:\n",
    "    #print(cell)\n",
    "    #print(f'{cell}\\n')\n",
    "    #print(f'{cell.value}\\n')\n",
    "    print(cell.value)"
   ]
  },
  {
   "cell_type": "code",
   "execution_count": null,
   "id": "0b87a1be-38ed-4ef3-be49-ead63c0a9bb2",
   "metadata": {},
   "outputs": [],
   "source": [
    "# get range\n",
    "range=ws['A1':'N15']\n",
    "#print(range)\n",
    "for cell in range:\n",
    "    #print(cell)\n",
    "    for x in cell:\n",
    "        print(x.value)"
   ]
  },
  {
   "cell_type": "code",
   "execution_count": null,
   "id": "beee9c95-5f34-49a3-892b-8f24fa0192bb",
   "metadata": {},
   "outputs": [],
   "source": [
    "# Interate Thru Rows\n",
    "for row in ws.iter_rows(min_row=1, values_only=True): #can use min_row, max_row, min_col, max_col=\n",
    "    print(row)\n",
    "    \n",
    "    "
   ]
  },
  {
   "cell_type": "code",
   "execution_count": null,
   "id": "b662cc02-441c-4cd8-93f1-d86a6b7f1335",
   "metadata": {},
   "outputs": [],
   "source": [
    "# Interate Thru col\n",
    "for row in ws.iter_cols(min_col=2,values_only=True):\n",
    "    print(row)"
   ]
  },
  {
   "cell_type": "code",
   "execution_count": null,
   "id": "8f090802-d87f-4d11-b198-41cf88fb6977",
   "metadata": {},
   "outputs": [],
   "source": [
    "#Change info in call and save ss\n",
    "ws[\"A2\"]='asdfasdf'\n",
    "ws[\"D3\"]='sdfsdf'"
   ]
  },
  {
   "cell_type": "code",
   "execution_count": null,
   "id": "32f263f8-3003-4928-88a5-3ca38f270e0a",
   "metadata": {},
   "outputs": [],
   "source": [
    "# Change many cells\n",
    "starting_row=3\n",
    "ws.cell(row=3, column=2).value = 'Neo'\n",
    "ws.cell(row=3, column=3).value = 'sdfsdf'\n"
   ]
  },
  {
   "cell_type": "code",
   "execution_count": null,
   "id": "222a4553-1239-40e3-92b7-73ada552d99b",
   "metadata": {},
   "outputs": [],
   "source": [
    "#create python list of names\n",
    "names=[\"dan\",\"april\",\"neal\"]\n",
    "starting_row = 3\n",
    "for name in names:\n",
    "    ws.cell(row=starting_row, column=1).value = name\n",
    "    starting_row += 1"
   ]
  },
  {
   "cell_type": "code",
   "execution_count": null,
   "id": "14604234-cda3-4960-b932-321651a3d2bf",
   "metadata": {},
   "outputs": [],
   "source": [
    "wb.save('positions.xlsx')"
   ]
  },
  {
   "cell_type": "code",
   "execution_count": null,
   "id": "04f89ee6-3c0f-4f79-9a63-f28b08c474f7",
   "metadata": {},
   "outputs": [],
   "source": [
    "#Create a workbook\n",
    "wb = Workbook()\n",
    "ws = wb.active\n",
    "ws.title = \"names and colors\"\n",
    "\n",
    "wb.save('names_and_colors.xlsx')"
   ]
  },
  {
   "cell_type": "code",
   "execution_count": null,
   "id": "ed35a251-7e58-4c12-8012-d1bdf9a7abdd",
   "metadata": {},
   "outputs": [],
   "source": [
    "names=[\"dan\",\"april\",\"neal\"]\n",
    "colors=[\"blue\",\"red\",\"yellow\"]\n",
    "nums=[10,20,30]\n",
    "ws['A1']='Names'\n",
    "ws['B1']=\"Colors\"\n",
    "starting_row=2\n",
    "for name in names:\n",
    "    ws.cell(row=starting_row, column=1).value = name\n",
    "    starting_row+=1\n",
    "starting_row=2\n",
    "for color in colors:\n",
    "    ws.cell(row=starting_row, column=2).value = color\n",
    "    starting_row+=1\n",
    "starting_row=2\n",
    "for num in nums:\n",
    "    ws.cell(row=starting_row, column=3).value = num\n",
    "    starting_row+=1\n",
    "\n",
    "ws['C5']=\"=SUM(C2:C4)\" \n",
    "    \n",
    "\n",
    "    "
   ]
  },
  {
   "cell_type": "code",
   "execution_count": null,
   "id": "e0486c2f-2293-448f-bf07-03ee1310874f",
   "metadata": {},
   "outputs": [],
   "source": [
    "# CHANGE FONTS\n",
    "cell = ws['A1']\n",
    "cell.font = Font(\n",
    "    size=30,\n",
    "    bold=True,\n",
    "    \n",
    ")\n"
   ]
  },
  {
   "cell_type": "code",
   "execution_count": null,
   "id": "cd1d2a9c-077d-464f-8c62-dd8d322f33ae",
   "metadata": {},
   "outputs": [],
   "source": [
    "#boarders around cells\n",
    "my_bd = Side(style=\"thick\", color=\"000000\")\n",
    "B3=ws['B3']\n",
    "B3.border = Border(\n",
    "    left = my_bd,\n",
    "    right = my_bd\n",
    ")"
   ]
  },
  {
   "cell_type": "code",
   "execution_count": 176,
   "id": "f1ca3c8d-8510-4a1c-80ad-545cf3c98791",
   "metadata": {},
   "outputs": [],
   "source": [
    "#charts\n",
    "chart = LineChart()\n",
    "#lables and data\n",
    "labels = Reference(ws, min_col=1, max_col=1, min_row=2, max_row=4)\n",
    "data = Reference(ws, min_col=3, min_row=1, max_row=4)\n",
    "\n",
    "chart.add_data(data, titles_from_data=True)\n",
    "chart.set_categories(labels)\n",
    "chart.title = \"I'm a Coder!\"\n",
    "ws.add_chart(chart, \"E2\")\n"
   ]
  },
  {
   "cell_type": "code",
   "execution_count": 177,
   "id": "e60279a2-b4a7-4790-a79b-65a5da5c9150",
   "metadata": {},
   "outputs": [
    {
     "name": "stdout",
     "output_type": "stream",
     "text": [
      "file saved\n"
     ]
    }
   ],
   "source": [
    "wb.save('names_and_colors.xlsx')\n",
    "print(\"file saved\")"
   ]
  },
  {
   "cell_type": "code",
   "execution_count": null,
   "id": "7f683623-b7df-4775-a74d-20a0e3206442",
   "metadata": {},
   "outputs": [],
   "source": []
  },
  {
   "cell_type": "code",
   "execution_count": null,
   "id": "64d25b67-5569-474c-b2e7-a42949689e3f",
   "metadata": {},
   "outputs": [],
   "source": []
  }
 ],
 "metadata": {
  "kernelspec": {
   "display_name": "Python 3 (ipykernel)",
   "language": "python",
   "name": "python3"
  },
  "language_info": {
   "codemirror_mode": {
    "name": "ipython",
    "version": 3
   },
   "file_extension": ".py",
   "mimetype": "text/x-python",
   "name": "python",
   "nbconvert_exporter": "python",
   "pygments_lexer": "ipython3",
   "version": "3.9.5"
  }
 },
 "nbformat": 4,
 "nbformat_minor": 5
}
