{
 "cells": [
  {
   "cell_type": "code",
   "execution_count": null,
   "id": "70ed354a-c70c-4778-bd91-b9fef9ea931a",
   "metadata": {},
   "outputs": [],
   "source": [
    "import questrade_modules"
   ]
  },
  {
   "cell_type": "code",
   "execution_count": null,
   "id": "f98be6c4-e942-4b55-b989-36498e5499e6",
   "metadata": {},
   "outputs": [],
   "source": [
    "set_token_path()"
   ]
  },
  {
   "cell_type": "code",
   "execution_count": null,
   "id": "6e5bff19-65fe-4429-a858-7fec32880e1f",
   "metadata": {},
   "outputs": [],
   "source": []
  }
 ],
 "metadata": {
  "kernelspec": {
   "display_name": "Python 3 (ipykernel)",
   "language": "python",
   "name": "python3"
  },
  "language_info": {
   "codemirror_mode": {
    "name": "ipython",
    "version": 3
   },
   "file_extension": ".py",
   "mimetype": "text/x-python",
   "name": "python",
   "nbconvert_exporter": "python",
   "pygments_lexer": "ipython3",
   "version": "3.9.5"
  }
 },
 "nbformat": 4,
 "nbformat_minor": 5
}
